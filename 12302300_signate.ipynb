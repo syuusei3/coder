{
  "cells": [
    {
      "cell_type": "markdown",
      "metadata": {
        "id": "view-in-github",
        "colab_type": "text"
      },
      "source": [
        "<a href=\"https://colab.research.google.com/github/syuusei3/coder/blob/master/12302300_signate.ipynb\" target=\"_parent\"><img src=\"https://colab.research.google.com/assets/colab-badge.svg\" alt=\"Open In Colab\"/></a>"
      ]
    },
    {
      "cell_type": "markdown",
      "source": [
        "# 1.ファイル読み込み"
      ],
      "metadata": {
        "id": "2kqCPhw6vXa_"
      }
    },
    {
      "cell_type": "code",
      "source": [
        "from google.colab import drive"
      ],
      "metadata": {
        "id": "Ft4v_rUWvbge"
      },
      "execution_count": 1,
      "outputs": []
    },
    {
      "cell_type": "code",
      "execution_count": 2,
      "metadata": {
        "colab": {
          "base_uri": "https://localhost:8080/"
        },
        "id": "0xBciKWC56xC",
        "outputId": "4396abb3-c056-4f3b-cbe5-807f8e7b7422"
      },
      "outputs": [
        {
          "output_type": "stream",
          "name": "stdout",
          "text": [
            "Mounted at /content/drive\n"
          ]
        }
      ],
      "source": [
        "drive.mount('/content/drive')\n"
      ]
    },
    {
      "cell_type": "code",
      "execution_count": 3,
      "metadata": {
        "id": "B7BbXaCd6Dm6"
      },
      "outputs": [],
      "source": [
        "import pandas as pd"
      ]
    },
    {
      "cell_type": "code",
      "execution_count": 4,
      "metadata": {
        "id": "mFL7oIWY6TsI"
      },
      "outputs": [],
      "source": [
        "train = pd.read_csv('/content/drive/MyDrive/SMFG/train.csv', index_col=0) # 学習用データ\n",
        "test = pd.read_csv('/content/drive/MyDrive/SMFG/test.csv', index_col=0) # 評価用データ\n",
        "sample_submit = pd.read_csv('/content/drive/MyDrive/SMFG/sample_submission.csv', index_col=0, header=None) # 応募用サンプルファイル"
      ]
    },
    {
      "cell_type": "markdown",
      "metadata": {
        "id": "Q8c82rXfozO_"
      },
      "source": [
        "# 2.水増し\n"
      ]
    },
    {
      "cell_type": "code",
      "execution_count": 5,
      "metadata": {
        "colab": {
          "base_uri": "https://localhost:8080/"
        },
        "id": "UuHwUtTmo1l_",
        "outputId": "bdf4fad1-4376-4987-e1b3-96771064da4e"
      },
      "outputs": [
        {
          "output_type": "stream",
          "name": "stdout",
          "text": [
            "アップサンプリング後の 'health' の値の分布:\n",
            "1    15751\n",
            "0    15751\n",
            "2    15751\n",
            "Name: health, dtype: int64\n"
          ]
        }
      ],
      "source": [
        "import pandas as pd\n",
        "from sklearn.utils import resample\n",
        "\n",
        "# データの読み込み\n",
        "# train = pd.read_csv('your_dataset.csv')\n",
        "\n",
        "# 'health' の値に基づいてデータセットを分割\n",
        "train_0 = train[train['health'] == 0]\n",
        "train_1 = train[train['health'] == 1]\n",
        "train_2 = train[train['health'] == 2]\n",
        "\n",
        "# 各クラスを最大クラスサイズに合わせてオーバーサンプリング\n",
        "max_size = len(train_1)  # 最大のクラスサイズ\n",
        "train_0_upsampled = resample(train_0, replace=True, n_samples=max_size, random_state=123)\n",
        "train_2_upsampled = resample(train_2, replace=True, n_samples=max_size, random_state=123)\n",
        "\n",
        "# アップサンプリングされたデータセットと元のデータセットを統合\n",
        "train_upsampled = pd.concat([train_1, train_0_upsampled, train_2_upsampled])\n",
        "\n",
        "# 統合後のデータセットの 'health' の値の分布を確認\n",
        "print(\"アップサンプリング後の 'health' の値の分布:\")\n",
        "print(train_upsampled['health'].value_counts())\n",
        "\n",
        "# 元の 'train' データセットに更新されたデータを反映\n",
        "train = train_upsampled\n"
      ]
    },
    {
      "cell_type": "code",
      "execution_count": 6,
      "metadata": {
        "colab": {
          "base_uri": "https://localhost:8080/"
        },
        "id": "SgCUQpd7oYJW",
        "outputId": "c7f8bcf7-823e-4b62-872e-647b7c744689"
      },
      "outputs": [
        {
          "output_type": "stream",
          "name": "stdout",
          "text": [
            "1    15751\n",
            "0    15751\n",
            "2    15751\n",
            "Name: health, dtype: int64\n"
          ]
        }
      ],
      "source": [
        "# 'health' カラムの値の分布数を確認\n",
        "health_distribution = train['health'].value_counts()\n",
        "print(health_distribution)\n"
      ]
    },
    {
      "cell_type": "markdown",
      "metadata": {
        "id": "7Ug28lEv_Lw2"
      },
      "source": [
        "#3. データの確認"
      ]
    },
    {
      "cell_type": "code",
      "execution_count": 7,
      "metadata": {
        "colab": {
          "base_uri": "https://localhost:8080/",
          "height": 446
        },
        "id": "B64TO1kf60W3",
        "outputId": "58f56cf8-e77f-47f7-d366-f658602de735"
      },
      "outputs": [
        {
          "output_type": "execute_result",
          "data": {
            "text/plain": [
              "   created_at  tree_dbh curb_loc  health steward   guards  sidewalk  \\\n",
              "0  2015-06-29        14   OnCurb       1     NaN      NaN    Damage   \n",
              "1  2016-09-21         5   OnCurb       1    3or4  Helpful  NoDamage   \n",
              "4  2016-06-24        23   OnCurb       1     NaN      NaN  NoDamage   \n",
              "5  2015-08-11        12   OnCurb       1     NaN      NaN    Damage   \n",
              "6  2015-10-24         8   OnCurb       1     NaN  Helpful    Damage   \n",
              "\n",
              "   user_type      problems          spc_common  ...   nta  \\\n",
              "0  Volunteer           NaN         English oak  ...  QN45   \n",
              "1  Volunteer           NaN  crimson king maple  ...  BX05   \n",
              "4  Volunteer        Stones    London planetree  ...  MN03   \n",
              "5  Volunteer           NaN      Amur cork tree  ...  QN22   \n",
              "6  Volunteer  BranchLights   littleleaf linden  ...  QN22   \n",
              "\n",
              "                               nta_name borocode  boro_ct   boroname  \\\n",
              "0  Douglas Manor-Douglaston-Little Neck        4  4152901     Queens   \n",
              "1            Bedford Park-Fordham North        2  2039901      Bronx   \n",
              "4     Central Harlem North-Polo Grounds        1  1022102  Manhattan   \n",
              "5                              Flushing        4  4088901     Queens   \n",
              "6                              Flushing        4  4086500     Queens   \n",
              "\n",
              "      zip_city cb_num  st_senate  st_assem  cncldist  \n",
              "0  Little Neck    411         11        25        23  \n",
              "1        Bronx    207         33        78        15  \n",
              "4     New York    110         30        70         9  \n",
              "5     Flushing    407         11        40        20  \n",
              "6     Flushing    407         16        40        20  \n",
              "\n",
              "[5 rows x 21 columns]"
            ],
            "text/html": [
              "\n",
              "  <div id=\"df-69fb185f-70db-417d-a5f2-cda218bb3050\" class=\"colab-df-container\">\n",
              "    <div>\n",
              "<style scoped>\n",
              "    .dataframe tbody tr th:only-of-type {\n",
              "        vertical-align: middle;\n",
              "    }\n",
              "\n",
              "    .dataframe tbody tr th {\n",
              "        vertical-align: top;\n",
              "    }\n",
              "\n",
              "    .dataframe thead th {\n",
              "        text-align: right;\n",
              "    }\n",
              "</style>\n",
              "<table border=\"1\" class=\"dataframe\">\n",
              "  <thead>\n",
              "    <tr style=\"text-align: right;\">\n",
              "      <th></th>\n",
              "      <th>created_at</th>\n",
              "      <th>tree_dbh</th>\n",
              "      <th>curb_loc</th>\n",
              "      <th>health</th>\n",
              "      <th>steward</th>\n",
              "      <th>guards</th>\n",
              "      <th>sidewalk</th>\n",
              "      <th>user_type</th>\n",
              "      <th>problems</th>\n",
              "      <th>spc_common</th>\n",
              "      <th>...</th>\n",
              "      <th>nta</th>\n",
              "      <th>nta_name</th>\n",
              "      <th>borocode</th>\n",
              "      <th>boro_ct</th>\n",
              "      <th>boroname</th>\n",
              "      <th>zip_city</th>\n",
              "      <th>cb_num</th>\n",
              "      <th>st_senate</th>\n",
              "      <th>st_assem</th>\n",
              "      <th>cncldist</th>\n",
              "    </tr>\n",
              "  </thead>\n",
              "  <tbody>\n",
              "    <tr>\n",
              "      <th>0</th>\n",
              "      <td>2015-06-29</td>\n",
              "      <td>14</td>\n",
              "      <td>OnCurb</td>\n",
              "      <td>1</td>\n",
              "      <td>NaN</td>\n",
              "      <td>NaN</td>\n",
              "      <td>Damage</td>\n",
              "      <td>Volunteer</td>\n",
              "      <td>NaN</td>\n",
              "      <td>English oak</td>\n",
              "      <td>...</td>\n",
              "      <td>QN45</td>\n",
              "      <td>Douglas Manor-Douglaston-Little Neck</td>\n",
              "      <td>4</td>\n",
              "      <td>4152901</td>\n",
              "      <td>Queens</td>\n",
              "      <td>Little Neck</td>\n",
              "      <td>411</td>\n",
              "      <td>11</td>\n",
              "      <td>25</td>\n",
              "      <td>23</td>\n",
              "    </tr>\n",
              "    <tr>\n",
              "      <th>1</th>\n",
              "      <td>2016-09-21</td>\n",
              "      <td>5</td>\n",
              "      <td>OnCurb</td>\n",
              "      <td>1</td>\n",
              "      <td>3or4</td>\n",
              "      <td>Helpful</td>\n",
              "      <td>NoDamage</td>\n",
              "      <td>Volunteer</td>\n",
              "      <td>NaN</td>\n",
              "      <td>crimson king maple</td>\n",
              "      <td>...</td>\n",
              "      <td>BX05</td>\n",
              "      <td>Bedford Park-Fordham North</td>\n",
              "      <td>2</td>\n",
              "      <td>2039901</td>\n",
              "      <td>Bronx</td>\n",
              "      <td>Bronx</td>\n",
              "      <td>207</td>\n",
              "      <td>33</td>\n",
              "      <td>78</td>\n",
              "      <td>15</td>\n",
              "    </tr>\n",
              "    <tr>\n",
              "      <th>4</th>\n",
              "      <td>2016-06-24</td>\n",
              "      <td>23</td>\n",
              "      <td>OnCurb</td>\n",
              "      <td>1</td>\n",
              "      <td>NaN</td>\n",
              "      <td>NaN</td>\n",
              "      <td>NoDamage</td>\n",
              "      <td>Volunteer</td>\n",
              "      <td>Stones</td>\n",
              "      <td>London planetree</td>\n",
              "      <td>...</td>\n",
              "      <td>MN03</td>\n",
              "      <td>Central Harlem North-Polo Grounds</td>\n",
              "      <td>1</td>\n",
              "      <td>1022102</td>\n",
              "      <td>Manhattan</td>\n",
              "      <td>New York</td>\n",
              "      <td>110</td>\n",
              "      <td>30</td>\n",
              "      <td>70</td>\n",
              "      <td>9</td>\n",
              "    </tr>\n",
              "    <tr>\n",
              "      <th>5</th>\n",
              "      <td>2015-08-11</td>\n",
              "      <td>12</td>\n",
              "      <td>OnCurb</td>\n",
              "      <td>1</td>\n",
              "      <td>NaN</td>\n",
              "      <td>NaN</td>\n",
              "      <td>Damage</td>\n",
              "      <td>Volunteer</td>\n",
              "      <td>NaN</td>\n",
              "      <td>Amur cork tree</td>\n",
              "      <td>...</td>\n",
              "      <td>QN22</td>\n",
              "      <td>Flushing</td>\n",
              "      <td>4</td>\n",
              "      <td>4088901</td>\n",
              "      <td>Queens</td>\n",
              "      <td>Flushing</td>\n",
              "      <td>407</td>\n",
              "      <td>11</td>\n",
              "      <td>40</td>\n",
              "      <td>20</td>\n",
              "    </tr>\n",
              "    <tr>\n",
              "      <th>6</th>\n",
              "      <td>2015-10-24</td>\n",
              "      <td>8</td>\n",
              "      <td>OnCurb</td>\n",
              "      <td>1</td>\n",
              "      <td>NaN</td>\n",
              "      <td>Helpful</td>\n",
              "      <td>Damage</td>\n",
              "      <td>Volunteer</td>\n",
              "      <td>BranchLights</td>\n",
              "      <td>littleleaf linden</td>\n",
              "      <td>...</td>\n",
              "      <td>QN22</td>\n",
              "      <td>Flushing</td>\n",
              "      <td>4</td>\n",
              "      <td>4086500</td>\n",
              "      <td>Queens</td>\n",
              "      <td>Flushing</td>\n",
              "      <td>407</td>\n",
              "      <td>16</td>\n",
              "      <td>40</td>\n",
              "      <td>20</td>\n",
              "    </tr>\n",
              "  </tbody>\n",
              "</table>\n",
              "<p>5 rows × 21 columns</p>\n",
              "</div>\n",
              "    <div class=\"colab-df-buttons\">\n",
              "\n",
              "  <div class=\"colab-df-container\">\n",
              "    <button class=\"colab-df-convert\" onclick=\"convertToInteractive('df-69fb185f-70db-417d-a5f2-cda218bb3050')\"\n",
              "            title=\"Convert this dataframe to an interactive table.\"\n",
              "            style=\"display:none;\">\n",
              "\n",
              "  <svg xmlns=\"http://www.w3.org/2000/svg\" height=\"24px\" viewBox=\"0 -960 960 960\">\n",
              "    <path d=\"M120-120v-720h720v720H120Zm60-500h600v-160H180v160Zm220 220h160v-160H400v160Zm0 220h160v-160H400v160ZM180-400h160v-160H180v160Zm440 0h160v-160H620v160ZM180-180h160v-160H180v160Zm440 0h160v-160H620v160Z\"/>\n",
              "  </svg>\n",
              "    </button>\n",
              "\n",
              "  <style>\n",
              "    .colab-df-container {\n",
              "      display:flex;\n",
              "      gap: 12px;\n",
              "    }\n",
              "\n",
              "    .colab-df-convert {\n",
              "      background-color: #E8F0FE;\n",
              "      border: none;\n",
              "      border-radius: 50%;\n",
              "      cursor: pointer;\n",
              "      display: none;\n",
              "      fill: #1967D2;\n",
              "      height: 32px;\n",
              "      padding: 0 0 0 0;\n",
              "      width: 32px;\n",
              "    }\n",
              "\n",
              "    .colab-df-convert:hover {\n",
              "      background-color: #E2EBFA;\n",
              "      box-shadow: 0px 1px 2px rgba(60, 64, 67, 0.3), 0px 1px 3px 1px rgba(60, 64, 67, 0.15);\n",
              "      fill: #174EA6;\n",
              "    }\n",
              "\n",
              "    .colab-df-buttons div {\n",
              "      margin-bottom: 4px;\n",
              "    }\n",
              "\n",
              "    [theme=dark] .colab-df-convert {\n",
              "      background-color: #3B4455;\n",
              "      fill: #D2E3FC;\n",
              "    }\n",
              "\n",
              "    [theme=dark] .colab-df-convert:hover {\n",
              "      background-color: #434B5C;\n",
              "      box-shadow: 0px 1px 3px 1px rgba(0, 0, 0, 0.15);\n",
              "      filter: drop-shadow(0px 1px 2px rgba(0, 0, 0, 0.3));\n",
              "      fill: #FFFFFF;\n",
              "    }\n",
              "  </style>\n",
              "\n",
              "    <script>\n",
              "      const buttonEl =\n",
              "        document.querySelector('#df-69fb185f-70db-417d-a5f2-cda218bb3050 button.colab-df-convert');\n",
              "      buttonEl.style.display =\n",
              "        google.colab.kernel.accessAllowed ? 'block' : 'none';\n",
              "\n",
              "      async function convertToInteractive(key) {\n",
              "        const element = document.querySelector('#df-69fb185f-70db-417d-a5f2-cda218bb3050');\n",
              "        const dataTable =\n",
              "          await google.colab.kernel.invokeFunction('convertToInteractive',\n",
              "                                                    [key], {});\n",
              "        if (!dataTable) return;\n",
              "\n",
              "        const docLinkHtml = 'Like what you see? Visit the ' +\n",
              "          '<a target=\"_blank\" href=https://colab.research.google.com/notebooks/data_table.ipynb>data table notebook</a>'\n",
              "          + ' to learn more about interactive tables.';\n",
              "        element.innerHTML = '';\n",
              "        dataTable['output_type'] = 'display_data';\n",
              "        await google.colab.output.renderOutput(dataTable, element);\n",
              "        const docLink = document.createElement('div');\n",
              "        docLink.innerHTML = docLinkHtml;\n",
              "        element.appendChild(docLink);\n",
              "      }\n",
              "    </script>\n",
              "  </div>\n",
              "\n",
              "\n",
              "<div id=\"df-5fe01887-f111-4091-9c85-eb9d3fe8b499\">\n",
              "  <button class=\"colab-df-quickchart\" onclick=\"quickchart('df-5fe01887-f111-4091-9c85-eb9d3fe8b499')\"\n",
              "            title=\"Suggest charts\"\n",
              "            style=\"display:none;\">\n",
              "\n",
              "<svg xmlns=\"http://www.w3.org/2000/svg\" height=\"24px\"viewBox=\"0 0 24 24\"\n",
              "     width=\"24px\">\n",
              "    <g>\n",
              "        <path d=\"M19 3H5c-1.1 0-2 .9-2 2v14c0 1.1.9 2 2 2h14c1.1 0 2-.9 2-2V5c0-1.1-.9-2-2-2zM9 17H7v-7h2v7zm4 0h-2V7h2v10zm4 0h-2v-4h2v4z\"/>\n",
              "    </g>\n",
              "</svg>\n",
              "  </button>\n",
              "\n",
              "<style>\n",
              "  .colab-df-quickchart {\n",
              "      --bg-color: #E8F0FE;\n",
              "      --fill-color: #1967D2;\n",
              "      --hover-bg-color: #E2EBFA;\n",
              "      --hover-fill-color: #174EA6;\n",
              "      --disabled-fill-color: #AAA;\n",
              "      --disabled-bg-color: #DDD;\n",
              "  }\n",
              "\n",
              "  [theme=dark] .colab-df-quickchart {\n",
              "      --bg-color: #3B4455;\n",
              "      --fill-color: #D2E3FC;\n",
              "      --hover-bg-color: #434B5C;\n",
              "      --hover-fill-color: #FFFFFF;\n",
              "      --disabled-bg-color: #3B4455;\n",
              "      --disabled-fill-color: #666;\n",
              "  }\n",
              "\n",
              "  .colab-df-quickchart {\n",
              "    background-color: var(--bg-color);\n",
              "    border: none;\n",
              "    border-radius: 50%;\n",
              "    cursor: pointer;\n",
              "    display: none;\n",
              "    fill: var(--fill-color);\n",
              "    height: 32px;\n",
              "    padding: 0;\n",
              "    width: 32px;\n",
              "  }\n",
              "\n",
              "  .colab-df-quickchart:hover {\n",
              "    background-color: var(--hover-bg-color);\n",
              "    box-shadow: 0 1px 2px rgba(60, 64, 67, 0.3), 0 1px 3px 1px rgba(60, 64, 67, 0.15);\n",
              "    fill: var(--button-hover-fill-color);\n",
              "  }\n",
              "\n",
              "  .colab-df-quickchart-complete:disabled,\n",
              "  .colab-df-quickchart-complete:disabled:hover {\n",
              "    background-color: var(--disabled-bg-color);\n",
              "    fill: var(--disabled-fill-color);\n",
              "    box-shadow: none;\n",
              "  }\n",
              "\n",
              "  .colab-df-spinner {\n",
              "    border: 2px solid var(--fill-color);\n",
              "    border-color: transparent;\n",
              "    border-bottom-color: var(--fill-color);\n",
              "    animation:\n",
              "      spin 1s steps(1) infinite;\n",
              "  }\n",
              "\n",
              "  @keyframes spin {\n",
              "    0% {\n",
              "      border-color: transparent;\n",
              "      border-bottom-color: var(--fill-color);\n",
              "      border-left-color: var(--fill-color);\n",
              "    }\n",
              "    20% {\n",
              "      border-color: transparent;\n",
              "      border-left-color: var(--fill-color);\n",
              "      border-top-color: var(--fill-color);\n",
              "    }\n",
              "    30% {\n",
              "      border-color: transparent;\n",
              "      border-left-color: var(--fill-color);\n",
              "      border-top-color: var(--fill-color);\n",
              "      border-right-color: var(--fill-color);\n",
              "    }\n",
              "    40% {\n",
              "      border-color: transparent;\n",
              "      border-right-color: var(--fill-color);\n",
              "      border-top-color: var(--fill-color);\n",
              "    }\n",
              "    60% {\n",
              "      border-color: transparent;\n",
              "      border-right-color: var(--fill-color);\n",
              "    }\n",
              "    80% {\n",
              "      border-color: transparent;\n",
              "      border-right-color: var(--fill-color);\n",
              "      border-bottom-color: var(--fill-color);\n",
              "    }\n",
              "    90% {\n",
              "      border-color: transparent;\n",
              "      border-bottom-color: var(--fill-color);\n",
              "    }\n",
              "  }\n",
              "</style>\n",
              "\n",
              "  <script>\n",
              "    async function quickchart(key) {\n",
              "      const quickchartButtonEl =\n",
              "        document.querySelector('#' + key + ' button');\n",
              "      quickchartButtonEl.disabled = true;  // To prevent multiple clicks.\n",
              "      quickchartButtonEl.classList.add('colab-df-spinner');\n",
              "      try {\n",
              "        const charts = await google.colab.kernel.invokeFunction(\n",
              "            'suggestCharts', [key], {});\n",
              "      } catch (error) {\n",
              "        console.error('Error during call to suggestCharts:', error);\n",
              "      }\n",
              "      quickchartButtonEl.classList.remove('colab-df-spinner');\n",
              "      quickchartButtonEl.classList.add('colab-df-quickchart-complete');\n",
              "    }\n",
              "    (() => {\n",
              "      let quickchartButtonEl =\n",
              "        document.querySelector('#df-5fe01887-f111-4091-9c85-eb9d3fe8b499 button');\n",
              "      quickchartButtonEl.style.display =\n",
              "        google.colab.kernel.accessAllowed ? 'block' : 'none';\n",
              "    })();\n",
              "  </script>\n",
              "</div>\n",
              "\n",
              "    </div>\n",
              "  </div>\n"
            ]
          },
          "metadata": {},
          "execution_count": 7
        }
      ],
      "source": [
        "train.head()"
      ]
    },
    {
      "cell_type": "code",
      "execution_count": 8,
      "metadata": {
        "colab": {
          "base_uri": "https://localhost:8080/"
        },
        "id": "G8Zjg8S2_SUR",
        "outputId": "2a03fcf7-450e-4a0f-d416-3ce989e21978"
      },
      "outputs": [
        {
          "output_type": "execute_result",
          "data": {
            "text/plain": [
              "1    15751\n",
              "0    15751\n",
              "2    15751\n",
              "Name: health, dtype: int64"
            ]
          },
          "metadata": {},
          "execution_count": 8
        }
      ],
      "source": [
        "train['health'].value_counts()"
      ]
    },
    {
      "cell_type": "code",
      "execution_count": 9,
      "metadata": {
        "colab": {
          "base_uri": "https://localhost:8080/"
        },
        "id": "PCYiffhs68Qo",
        "outputId": "ccc57dec-8d8c-4489-afdb-c7a743d3c343"
      },
      "outputs": [
        {
          "output_type": "stream",
          "name": "stdout",
          "text": [
            "<class 'pandas.core.frame.DataFrame'>\n",
            "Int64Index: 47253 entries, 0 to 9093\n",
            "Data columns (total 21 columns):\n",
            " #   Column      Non-Null Count  Dtype \n",
            "---  ------      --------------  ----- \n",
            " 0   created_at  47253 non-null  object\n",
            " 1   tree_dbh    47253 non-null  int64 \n",
            " 2   curb_loc    47253 non-null  object\n",
            " 3   health      47253 non-null  int64 \n",
            " 4   steward     11357 non-null  object\n",
            " 5   guards      12596 non-null  object\n",
            " 6   sidewalk    47253 non-null  object\n",
            " 7   user_type   47253 non-null  object\n",
            " 8   problems    18880 non-null  object\n",
            " 9   spc_common  47253 non-null  object\n",
            " 10  spc_latin   47253 non-null  object\n",
            " 11  nta         47253 non-null  object\n",
            " 12  nta_name    47253 non-null  object\n",
            " 13  borocode    47253 non-null  int64 \n",
            " 14  boro_ct     47253 non-null  int64 \n",
            " 15  boroname    47253 non-null  object\n",
            " 16  zip_city    47253 non-null  object\n",
            " 17  cb_num      47253 non-null  int64 \n",
            " 18  st_senate   47253 non-null  int64 \n",
            " 19  st_assem    47253 non-null  int64 \n",
            " 20  cncldist    47253 non-null  int64 \n",
            "dtypes: int64(8), object(13)\n",
            "memory usage: 7.9+ MB\n"
          ]
        }
      ],
      "source": [
        "train.info()"
      ]
    },
    {
      "cell_type": "code",
      "execution_count": 10,
      "metadata": {
        "colab": {
          "base_uri": "https://localhost:8080/"
        },
        "id": "TQbE0XXr-EIL",
        "outputId": "17f9f29b-8f30-47cf-b43f-1529af34f34b"
      },
      "outputs": [
        {
          "output_type": "execute_result",
          "data": {
            "text/plain": [
              "1    15751\n",
              "0    15751\n",
              "2    15751\n",
              "Name: health, dtype: int64"
            ]
          },
          "metadata": {},
          "execution_count": 10
        }
      ],
      "source": [
        "train['health'].value_counts()"
      ]
    },
    {
      "cell_type": "code",
      "execution_count": 11,
      "metadata": {
        "colab": {
          "base_uri": "https://localhost:8080/"
        },
        "id": "ipyUInHOGPly",
        "outputId": "c5bd2287-bff3-4895-89db-5ac7206b3d6a"
      },
      "outputs": [
        {
          "output_type": "stream",
          "name": "stdout",
          "text": [
            "Columns in train dataset: Index(['created_at', 'tree_dbh', 'curb_loc', 'health', 'steward', 'guards',\n",
            "       'sidewalk', 'user_type', 'problems', 'spc_common', 'spc_latin', 'nta',\n",
            "       'nta_name', 'borocode', 'boro_ct', 'boroname', 'zip_city', 'cb_num',\n",
            "       'st_senate', 'st_assem', 'cncldist'],\n",
            "      dtype='object')\n",
            "Columns in test dataset: Index(['created_at', 'tree_dbh', 'curb_loc', 'steward', 'guards', 'sidewalk',\n",
            "       'user_type', 'problems', 'spc_common', 'spc_latin', 'nta', 'nta_name',\n",
            "       'borocode', 'boro_ct', 'boroname', 'zip_city', 'cb_num', 'st_senate',\n",
            "       'st_assem', 'cncldist'],\n",
            "      dtype='object')\n"
          ]
        }
      ],
      "source": [
        "# train と test データセットの列名を表示\n",
        "print(\"Columns in train dataset:\", train.columns)\n",
        "print(\"Columns in test dataset:\", test.columns)"
      ]
    },
    {
      "cell_type": "code",
      "execution_count": 12,
      "metadata": {
        "colab": {
          "base_uri": "https://localhost:8080/"
        },
        "id": "AqK7i4q1FlD_",
        "outputId": "d3c0e5c3-09b2-4b3c-bc8f-00761850ea98"
      },
      "outputs": [
        {
          "output_type": "stream",
          "name": "stdout",
          "text": [
            "Unique values in 'curb_loc' in the train dataset: ['OnCurb' 'OffsetFromCurb']\n"
          ]
        }
      ],
      "source": [
        "# 'curb_loc' 列のユニークな値を train データセットで取得\n",
        "unique_values_train = train['curb_loc'].unique()\n",
        "\n",
        "# ユニークな値の表示\n",
        "print(\"Unique values in 'curb_loc' in the train dataset:\", unique_values_train)"
      ]
    },
    {
      "cell_type": "code",
      "execution_count": 13,
      "metadata": {
        "colab": {
          "base_uri": "https://localhost:8080/"
        },
        "id": "Oozjv1lJOJo2",
        "outputId": "0e612b71-17dd-497f-fe6f-353bf3d997b0"
      },
      "outputs": [
        {
          "output_type": "stream",
          "name": "stdout",
          "text": [
            "Unique values in 'spc_common' in the train dataset: ['English oak' 'crimson king maple' 'London planetree' 'Amur cork tree'\n",
            " 'littleleaf linden' 'Siberian elm' 'Norway maple' 'green ash' 'cherry'\n",
            " 'American elm' 'Kentucky coffeetree' 'Amur maackia' 'Japanese zelkova'\n",
            " 'silver linden' \"Schumard's oak\" 'pin oak' 'American hornbeam'\n",
            " 'silver maple' 'ginkgo' 'Callery pear' 'Turkish hazelnut' 'Amur maple'\n",
            " 'American linden' 'catalpa' 'Sophora' 'maple' 'American hophornbeam'\n",
            " 'bur oak' 'cockspur hawthorn' 'honeylocust' 'Japanese tree lilac'\n",
            " 'sawtooth oak' 'willow oak' 'black oak' 'eastern redbud' 'sweetgum'\n",
            " 'purple-leaf plum' 'Chinese elm' 'dawn redwood' 'American beech'\n",
            " 'red maple' 'swamp white oak' 'holly' \"'Schubert' chokecherry\" 'ash'\n",
            " 'Ohio buckeye' 'Cornelian cherry' 'black walnut' 'crab apple'\n",
            " 'Chinese fringetree' 'hawthorn' 'silver birch' 'katsura tree'\n",
            " 'black locust' 'hedge maple' 'Persian ironwood' 'Norway spruce'\n",
            " 'eastern redcedar' 'blue spruce' 'white ash' 'Atlantic white cedar'\n",
            " 'northern red oak' 'sugar maple' 'hardy rubber tree' 'empress tree'\n",
            " 'tartar maple' 'mulberry' 'white oak' 'bald cypress' 'serviceberry'\n",
            " 'spruce' 'sycamore maple' 'horse chestnut' 'two-winged silverbell'\n",
            " 'scarlet oak' 'eastern cottonwood' 'golden raintree' 'Himalayan cedar'\n",
            " 'Shantung maple' 'red horse chestnut' 'flowering dogwood' 'pitch pine'\n",
            " 'red pine' 'kousa dogwood' 'common hackberry' 'weeping willow'\n",
            " 'crepe myrtle' 'European hornbeam' 'shingle oak' 'Atlas cedar'\n",
            " 'Japanese hornbeam' 'pond cypress' 'sassafras' 'quaking aspen'\n",
            " 'Japanese snowbell' 'magnolia' 'black cherry' 'paper birch'\n",
            " 'paperbark maple' 'false cypress' 'arborvitae' 'cucumber magnolia'\n",
            " 'trident maple' 'Chinese chestnut' 'pignut hickory' 'Japanese maple'\n",
            " 'bigtooth aspen' 'river birch' 'tulip-poplar' 'blackgum' 'tree of heaven'\n",
            " 'Chinese tree lilac' 'southern magnolia' 'pagoda dogwood'\n",
            " 'Oklahoma redbud' 'white pine' 'pine' 'European beech' 'eastern hemlock'\n",
            " 'Kentucky yellowwood']\n"
          ]
        }
      ],
      "source": [
        "# 'spc_common' 列のユニークな値を train データセットで取得\n",
        "unique_values_train = train['spc_common'].unique()\n",
        "\n",
        "# ユニークな値の表示\n",
        "print(\"Unique values in 'spc_common' in the train dataset:\", unique_values_train)"
      ]
    },
    {
      "cell_type": "code",
      "execution_count": 14,
      "metadata": {
        "colab": {
          "base_uri": "https://localhost:8080/"
        },
        "id": "XLkAAtQoPHR6",
        "outputId": "c64de0d4-ae08-48dd-990e-3cbd122b3502"
      },
      "outputs": [
        {
          "output_type": "stream",
          "name": "stdout",
          "text": [
            "Number of missing values in 'spc_common' in the train dataset: 0\n"
          ]
        }
      ],
      "source": [
        "# 'spc_common' 列の欠損値の数をカウント\n",
        "missing_values = train['spc_common'].isnull().sum()\n",
        "\n",
        "# 欠損値の数を表示\n",
        "print(\"Number of missing values in 'spc_common' in the train dataset:\", missing_values)\n"
      ]
    },
    {
      "cell_type": "markdown",
      "metadata": {
        "id": "PRMShxDNcU5L"
      },
      "source": [
        "#3.データの確認、guardsの確認\n"
      ]
    },
    {
      "cell_type": "code",
      "execution_count": 15,
      "metadata": {
        "colab": {
          "base_uri": "https://localhost:8080/"
        },
        "id": "AtR_kFUQcXoq",
        "outputId": "c8fd790f-a33a-44df-c54e-2dd57abf2f48"
      },
      "outputs": [
        {
          "output_type": "stream",
          "name": "stdout",
          "text": [
            "Unique values in 'guards': [nan 'Helpful' 'Harmful' 'Unsure']\n"
          ]
        }
      ],
      "source": [
        "# 'guards' 列のユニークな値を取得\n",
        "unique_values_guards = train['guards'].unique()\n",
        "\n",
        "# ユニークな値の表示\n",
        "print(\"Unique values in 'guards':\", unique_values_guards)\n"
      ]
    },
    {
      "cell_type": "code",
      "execution_count": 16,
      "metadata": {
        "colab": {
          "base_uri": "https://localhost:8080/"
        },
        "id": "QMoB5vNHhDr4",
        "outputId": "3649793f-827b-4311-a42a-5223e004bc4c"
      },
      "outputs": [
        {
          "output_type": "stream",
          "name": "stdout",
          "text": [
            "Unique values in 'guards': [nan 'Unsure' 'Helpful' 'Harmful']\n"
          ]
        }
      ],
      "source": [
        "# 'guards' 列のユニークな値を取得\n",
        "unique_values_guards = test['guards'].unique()\n",
        "\n",
        "# ユニークな値の表示\n",
        "print(\"Unique values in 'guards':\", unique_values_guards)"
      ]
    },
    {
      "cell_type": "code",
      "execution_count": 17,
      "metadata": {
        "colab": {
          "base_uri": "https://localhost:8080/"
        },
        "id": "RqM_uC6edRXx",
        "outputId": "5db60868-b4ea-4ea5-d8e2-7ede1182ec7f"
      },
      "outputs": [
        {
          "output_type": "stream",
          "name": "stdout",
          "text": [
            "health      0     1     2\n",
            "guards                   \n",
            "Harmful   542   523   261\n",
            "Helpful  3495  2730  3122\n",
            "Unsure    793   535   595\n"
          ]
        }
      ],
      "source": [
        "import pandas as pd\n",
        "\n",
        "# guards と health のクロスタブを作成\n",
        "cross_tab = pd.crosstab(train['guards'], train['health'])\n",
        "\n",
        "# クロスタブの表示\n",
        "print(cross_tab)\n"
      ]
    },
    {
      "cell_type": "code",
      "execution_count": 18,
      "metadata": {
        "colab": {
          "base_uri": "https://localhost:8080/",
          "height": 472
        },
        "id": "pHro1Hk-dVNx",
        "outputId": "80ba82f2-7c3a-4380-98fb-d08a70acc963"
      },
      "outputs": [
        {
          "output_type": "display_data",
          "data": {
            "text/plain": [
              "<Figure size 640x480 with 1 Axes>"
            ],
            "image/png": "[encoded data removed]"
          },
          "metadata": {}
        }
      ],
      "source": [
        "import seaborn as sns\n",
        "import matplotlib.pyplot as plt\n",
        "\n",
        "# guards に基づく health の分布を棒グラフで表示\n",
        "sns.countplot(x='guards', hue='health', data=train)\n",
        "plt.title(\"Distribution of Health based on Guards\")\n",
        "plt.show()\n"
      ]
    },
    {
      "cell_type": "markdown",
      "source": [
        "# 4. 前処理 'guards'"
      ],
      "metadata": {
        "id": "Qb5TtKzsv6B6"
      }
    },
    {
      "cell_type": "code",
      "execution_count": 19,
      "metadata": {
        "colab": {
          "base_uri": "https://localhost:8080/"
        },
        "id": "G2L1BrR1eDth",
        "outputId": "ed06dc63-f312-4f8d-81c6-b81a4c965b19"
      },
      "outputs": [
        {
          "output_type": "stream",
          "name": "stdout",
          "text": [
            "Unique values in 'guards' in the test dataset: [nan 'Unsure' 'Helpful' 'Harmful']\n"
          ]
        }
      ],
      "source": [
        "# 'guards' 列のユニークな値を test データセットで取得\n",
        "unique_values_guards_test = test['guards'].unique()\n",
        "\n",
        "# ユニークな値の表示\n",
        "print(\"Unique values in 'guards' in the test dataset:\", unique_values_guards_test)\n"
      ]
    },
    {
      "cell_type": "code",
      "execution_count": 20,
      "metadata": {
        "colab": {
          "base_uri": "https://localhost:8080/",
          "height": 490
        },
        "id": "XamQ54rXd1qD",
        "outputId": "59464ac5-49fc-46a2-d23f-91c78a3d7acb"
      },
      "outputs": [
        {
          "output_type": "stream",
          "name": "stdout",
          "text": [
            "Unique values in 'guards' after transformation: ['Unknown' 'Unsure' 'Helpful' 'Harmful']\n"
          ]
        },
        {
          "output_type": "display_data",
          "data": {
            "text/plain": [
              "<Figure size 640x480 with 1 Axes>"
            ],
            "image/png": "[encoded data removed]"
          },
          "metadata": {}
        }
      ],
      "source": [
        "import pandas as pd\n",
        "import seaborn as sns\n",
        "import matplotlib.pyplot as plt\n",
        "\n",
        "# 'guards' 列の nan 値を 'Unknown' に置き換え\n",
        "test['guards'] = test['guards'].fillna('Unknown')\n",
        "\n",
        "# ユニークな値の表示（変換後）\n",
        "print(\"Unique values in 'guards' after transformation:\", test['guards'].unique())\n",
        "\n",
        "# guards に基づくグラフの表示\n",
        "sns.countplot(x='guards', data=test)\n",
        "plt.title(\"Distribution of Guards Categories\")\n",
        "plt.show()\n"
      ]
    },
    {
      "cell_type": "markdown",
      "metadata": {
        "id": "WGCHamVk-JxG"
      },
      "source": [
        "#4. 前処理を行う"
      ]
    },
    {
      "cell_type": "code",
      "execution_count": 21,
      "metadata": {
        "colab": {
          "base_uri": "https://localhost:8080/"
        },
        "id": "NT8oD5hk7Kio",
        "outputId": "c8a719ef-2d27-4333-92d4-4361a450f34a"
      },
      "outputs": [
        {
          "output_type": "execute_result",
          "data": {
            "text/plain": [
              "created_at        0\n",
              "tree_dbh          0\n",
              "curb_loc          0\n",
              "health            0\n",
              "steward       35896\n",
              "guards        34657\n",
              "sidewalk          0\n",
              "user_type         0\n",
              "problems      28373\n",
              "spc_common        0\n",
              "spc_latin         0\n",
              "nta               0\n",
              "nta_name          0\n",
              "borocode          0\n",
              "boro_ct           0\n",
              "boroname          0\n",
              "zip_city          0\n",
              "cb_num            0\n",
              "st_senate         0\n",
              "st_assem          0\n",
              "cncldist          0\n",
              "dtype: int64"
            ]
          },
          "metadata": {},
          "execution_count": 21
        }
      ],
      "source": [
        "train.isnull().sum()"
      ]
    },
    {
      "cell_type": "code",
      "execution_count": 22,
      "metadata": {
        "colab": {
          "base_uri": "https://localhost:8080/"
        },
        "id": "9IEiERsE-TDW",
        "outputId": "80771710-0dae-491a-b17f-4133e03bdf5d"
      },
      "outputs": [
        {
          "output_type": "execute_result",
          "data": {
            "text/plain": [
              "1or2       8240\n",
              "3or4       3008\n",
              "4orMore     109\n",
              "Name: steward, dtype: int64"
            ]
          },
          "metadata": {},
          "execution_count": 22
        }
      ],
      "source": [
        "train['steward'].value_counts()"
      ]
    },
    {
      "cell_type": "code",
      "execution_count": 23,
      "metadata": {
        "colab": {
          "base_uri": "https://localhost:8080/"
        },
        "id": "LeBDmmKI-Vwv",
        "outputId": "0e556cbf-f5ab-4ba1-bd24-6c35253d5916"
      },
      "outputs": [
        {
          "output_type": "execute_result",
          "data": {
            "text/plain": [
              "Helpful    9347\n",
              "Unsure     1923\n",
              "Harmful    1326\n",
              "Name: guards, dtype: int64"
            ]
          },
          "metadata": {},
          "execution_count": 23
        }
      ],
      "source": [
        "train['guards'].value_counts()"
      ]
    },
    {
      "cell_type": "code",
      "execution_count": 24,
      "metadata": {
        "colab": {
          "base_uri": "https://localhost:8080/"
        },
        "id": "uvjAIlAR-YRd",
        "outputId": "f2f1588a-a3bf-49ec-ff31-1dc316c6ffb9"
      },
      "outputs": [
        {
          "output_type": "execute_result",
          "data": {
            "text/plain": [
              "Stones                                      4987\n",
              "BranchLights                                2603\n",
              "StonesBranchLights                          1914\n",
              "BranchOther                                  828\n",
              "RootOther                                    711\n",
              "                                            ... \n",
              "StonesSneakers                                20\n",
              "RootOtherWiresRopeTrunkOtherBranchLights      19\n",
              "RootOtherBranchLightsBranchOther              17\n",
              "StonesRootOtherWiresRopeBranchOther           16\n",
              "WiresRopeTrunkLightsBranchLights               7\n",
              "Name: problems, Length: 73, dtype: int64"
            ]
          },
          "metadata": {},
          "execution_count": 24
        }
      ],
      "source": [
        "train['problems'].value_counts()"
      ]
    },
    {
      "cell_type": "code",
      "execution_count": 25,
      "metadata": {
        "colab": {
          "base_uri": "https://localhost:8080/"
        },
        "id": "Zbaf4WFSWKjI",
        "outputId": "d031dc24-bd03-4636-9bdc-a5590798b496"
      },
      "outputs": [
        {
          "output_type": "stream",
          "name": "stdout",
          "text": [
            "Columns in train dataset: Index(['created_at', 'tree_dbh', 'curb_loc', 'health', 'steward', 'guards',\n",
            "       'sidewalk', 'user_type', 'problems', 'spc_common', 'spc_latin', 'nta',\n",
            "       'nta_name', 'borocode', 'boro_ct', 'boroname', 'zip_city', 'cb_num',\n",
            "       'st_senate', 'st_assem', 'cncldist'],\n",
            "      dtype='object')\n",
            "Columns in test dataset: Index(['created_at', 'tree_dbh', 'curb_loc', 'steward', 'guards', 'sidewalk',\n",
            "       'user_type', 'problems', 'spc_common', 'spc_latin', 'nta', 'nta_name',\n",
            "       'borocode', 'boro_ct', 'boroname', 'zip_city', 'cb_num', 'st_senate',\n",
            "       'st_assem', 'cncldist'],\n",
            "      dtype='object')\n"
          ]
        }
      ],
      "source": [
        "# train と test データセットの列名を表示\n",
        "print(\"Columns in train dataset:\", train.columns)\n",
        "print(\"Columns in test dataset:\", test.columns)"
      ]
    },
    {
      "cell_type": "code",
      "execution_count": 26,
      "metadata": {
        "id": "eEubCQJH-ckd"
      },
      "outputs": [],
      "source": [
        "train.fillna('NULL', inplace=True)"
      ]
    },
    {
      "cell_type": "code",
      "execution_count": 27,
      "metadata": {
        "colab": {
          "base_uri": "https://localhost:8080/"
        },
        "id": "NxqAAjMl7QGm",
        "outputId": "63a3c4ab-d989-4c96-c430-28e34d200709"
      },
      "outputs": [
        {
          "output_type": "execute_result",
          "data": {
            "text/plain": [
              "74"
            ]
          },
          "metadata": {},
          "execution_count": 27
        }
      ],
      "source": [
        "train['problems'].nunique()"
      ]
    },
    {
      "cell_type": "markdown",
      "metadata": {
        "id": "HBjPFWZhkXA0"
      },
      "source": [
        "# 4. 前処理Problems(木に関連する問題)"
      ]
    },
    {
      "cell_type": "code",
      "execution_count": 28,
      "metadata": {
        "id": "b9B33J657dy5"
      },
      "outputs": [],
      "source": [
        "'''\n",
        "#　2値に変換\n",
        "train['bool_problems'] = train['problems'].apply(lambda x: 0 if x=='NULL' else 1)\n",
        "test['bool_problems'] = test['problems'].apply(lambda x: 0 if x=='NULL' else 1)\n",
        "'''\n",
        "import pandas as pd\n",
        "from sklearn.preprocessing import LabelEncoder\n",
        "\n",
        "# ラベルエンコーダーの初期化\n",
        "label_encoder = LabelEncoder()\n",
        "\n",
        "# `NULL` 文字列と NaN 値を 0 に置き換える\n",
        "train['problems'].replace('NULL', 0, inplace=True)\n",
        "train['problems'].fillna(0, inplace=True)\n",
        "test['problems'].replace('NULL', 0, inplace=True)\n",
        "test['problems'].fillna(0, inplace=True)"
      ]
    },
    {
      "cell_type": "code",
      "source": [
        "# 'problems' 列が 0 でない場合のみエンコーディングを適用\n",
        "train_non_null = train[train['problems'] != 0]\n",
        "train.loc[train['problems'] != 0, 'problems_encoded'] = label_encoder.fit_transform(train_non_null['problems']) + 1\n",
        "train.loc[train['problems'] == 0, 'problems_encoded'] = 0\n",
        "\n",
        "# 同様にテストデータセットに対しても適用\n",
        "test_non_null = test[test['problems'] != 0]\n",
        "test.loc[test['problems'] != 0, 'problems_encoded'] = label_encoder.transform(test_non_null['problems']) + 1\n",
        "test.loc[test['problems'] == 0, 'problems_encoded'] = 0\n",
        "\n",
        "# エンコードされた列の最初のいくつかの値を表示\n",
        "print(train[['problems', 'problems_encoded']].head())\n",
        "print(test[['problems', 'problems_encoded']].head())"
      ],
      "metadata": {
        "colab": {
          "base_uri": "https://localhost:8080/"
        },
        "id": "H207hvgZ7CDc",
        "outputId": "f3127403-7a9b-4971-8ed2-0f0fa551cf45"
      },
      "execution_count": 29,
      "outputs": [
        {
          "output_type": "stream",
          "name": "stdout",
          "text": [
            "       problems  problems_encoded\n",
            "0             0               0.0\n",
            "1             0               0.0\n",
            "4        Stones              28.0\n",
            "5             0               0.0\n",
            "6  BranchLights               1.0\n",
            "      problems  problems_encoded\n",
            "19984        0               0.0\n",
            "19985        0               0.0\n",
            "19986        0               0.0\n",
            "19987        0               0.0\n",
            "19988   Stones              28.0\n"
          ]
        }
      ]
    },
    {
      "cell_type": "code",
      "execution_count": 30,
      "metadata": {
        "colab": {
          "base_uri": "https://localhost:8080/"
        },
        "id": "jSZuyGCgWv6x",
        "outputId": "b6729bae-e211-4e81-93fb-0920f9eb73db"
      },
      "outputs": [
        {
          "output_type": "stream",
          "name": "stdout",
          "text": [
            "Columns in train dataset: Index(['created_at', 'tree_dbh', 'curb_loc', 'health', 'steward', 'guards',\n",
            "       'sidewalk', 'user_type', 'problems', 'spc_common', 'spc_latin', 'nta',\n",
            "       'nta_name', 'borocode', 'boro_ct', 'boroname', 'zip_city', 'cb_num',\n",
            "       'st_senate', 'st_assem', 'cncldist', 'problems_encoded'],\n",
            "      dtype='object')\n",
            "Columns in test dataset: Index(['created_at', 'tree_dbh', 'curb_loc', 'steward', 'guards', 'sidewalk',\n",
            "       'user_type', 'problems', 'spc_common', 'spc_latin', 'nta', 'nta_name',\n",
            "       'borocode', 'boro_ct', 'boroname', 'zip_city', 'cb_num', 'st_senate',\n",
            "       'st_assem', 'cncldist', 'problems_encoded'],\n",
            "      dtype='object')\n"
          ]
        }
      ],
      "source": [
        "# train と test データセットの列名を表示\n",
        "print(\"Columns in train dataset:\", train.columns)\n",
        "print(\"Columns in test dataset:\", test.columns)"
      ]
    },
    {
      "cell_type": "code",
      "source": [
        "\"\"\"\n",
        "# Displaying unique values in 'bool_problems'\n",
        "unique_values_train = train['bool_problems'].unique()\n",
        "unique_values_test = test['bool_problems'].unique()\n",
        "\n",
        "print(\"Unique values in train['bool_problems']:\", unique_values_train)\n",
        "print(\"Unique values in test['bool_problems']:\", unique_values_test)\n",
        "\n",
        "\"\"\""
      ],
      "metadata": {
        "colab": {
          "base_uri": "https://localhost:8080/",
          "height": 72
        },
        "id": "XMvwJ-hXw1Br",
        "outputId": "0aec8fff-d6ab-4351-d5ac-da61b76524c7"
      },
      "execution_count": 31,
      "outputs": [
        {
          "output_type": "execute_result",
          "data": {
            "text/plain": [
              "'\\n# Displaying unique values in \\'bool_problems\\'\\nunique_values_train = train[\\'bool_problems\\'].unique()\\nunique_values_test = test[\\'bool_problems\\'].unique()\\n\\nprint(\"Unique values in train[\\'bool_problems\\']:\", unique_values_train)\\nprint(\"Unique values in test[\\'bool_problems\\']:\", unique_values_test)\\n\\n'"
            ],
            "application/vnd.google.colaboratory.intrinsic+json": {
              "type": "string"
            }
          },
          "metadata": {},
          "execution_count": 31
        }
      ]
    },
    {
      "cell_type": "markdown",
      "metadata": {
        "id": "cMdLcKlCiWf1"
      },
      "source": [
        "# 4. 前処理 'steward' : 木の管理者\n"
      ]
    },
    {
      "cell_type": "code",
      "execution_count": 32,
      "metadata": {
        "colab": {
          "base_uri": "https://localhost:8080/"
        },
        "id": "9ZxniwmDkdlb",
        "outputId": "302f382e-a6a6-4298-c36f-08eac740bb06"
      },
      "outputs": [
        {
          "output_type": "stream",
          "name": "stdout",
          "text": [
            "['NULL' '3or4' '1or2' '4orMore']\n"
          ]
        }
      ],
      "source": [
        "# 'steward' 列に存在するユニークな値を表示する\n",
        "unique_steward_values = train['steward'].unique()\n",
        "print(unique_steward_values)"
      ]
    },
    {
      "cell_type": "code",
      "execution_count": 33,
      "metadata": {
        "id": "9apKiHRTlWKH"
      },
      "outputs": [],
      "source": [
        "def convert_steward(value):\n",
        "    if value == 'NULL':\n",
        "        return 0\n",
        "    elif value == '1or2':\n",
        "        return 1.5\n",
        "    elif value == '3or4':\n",
        "        return 3.5\n",
        "    elif value == '4orMore':\n",
        "        return 5\n",
        "    else:\n",
        "        return None  # 予期しない値の場合\n",
        "\n",
        "train['steward'] = train['steward'].apply(convert_steward)\n",
        "test['steward'] = test['steward'].apply(convert_steward)\n"
      ]
    },
    {
      "cell_type": "code",
      "execution_count": 34,
      "metadata": {
        "colab": {
          "base_uri": "https://localhost:8080/"
        },
        "id": "ZCZdZs7FlY8B",
        "outputId": "ab8e02cd-b6e5-4293-c6ea-e7c6a44dc383"
      },
      "outputs": [
        {
          "output_type": "stream",
          "name": "stdout",
          "text": [
            "[0.  3.5 1.5 5. ]\n"
          ]
        }
      ],
      "source": [
        "# 'steward' 列に存在するユニークな値を表示する\n",
        "unique_steward_values = train['steward'].unique()\n",
        "print(unique_steward_values)"
      ]
    },
    {
      "cell_type": "markdown",
      "source": [
        "# 4. 前処理 spc_common(str, 木の種類)"
      ],
      "metadata": {
        "id": "g87OEyXV5Ckj"
      }
    },
    {
      "cell_type": "code",
      "source": [
        "# 欠損値\n",
        "# `spc_common_encoded` 列の欠損値の数をカウント\n",
        "missing_values_count = train['spc_common'].isnull().sum()\n",
        "\n",
        "print(f\"'spc_common' 列の欠損値の数: {missing_values_count}\")\n",
        "\n"
      ],
      "metadata": {
        "colab": {
          "base_uri": "https://localhost:8080/"
        },
        "id": "573BKSnA9P1q",
        "outputId": "3558cd06-26dd-4d4d-e6ae-a91f07686df0"
      },
      "execution_count": 35,
      "outputs": [
        {
          "output_type": "stream",
          "name": "stdout",
          "text": [
            "'spc_common' 列の欠損値の数: 0\n"
          ]
        }
      ]
    },
    {
      "cell_type": "code",
      "source": [
        "test_missing_values_count = test['spc_common'].isnull().sum()\n",
        "\n",
        "print(f\"'spc_common' 列の欠損値の数: {test_missing_values_count}\")"
      ],
      "metadata": {
        "colab": {
          "base_uri": "https://localhost:8080/"
        },
        "id": "pM-Z0ud49y8T",
        "outputId": "b2176b69-3e87-41d1-e202-6b9f361d8892"
      },
      "execution_count": 36,
      "outputs": [
        {
          "output_type": "stream",
          "name": "stdout",
          "text": [
            "'spc_common' 列の欠損値の数: 0\n"
          ]
        }
      ]
    },
    {
      "cell_type": "code",
      "source": [
        "from sklearn.preprocessing import LabelEncoder\n",
        "\n",
        "# ラベルエンコーダーの初期化\n",
        "label_encoder = LabelEncoder()\n",
        "# エンコードされた列の最初のいくつかの値を表示\n",
        "print(train['spc_common'].head())\n"
      ],
      "metadata": {
        "colab": {
          "base_uri": "https://localhost:8080/"
        },
        "id": "vxtTWB_I5KtR",
        "outputId": "495d57eb-b8e3-49b5-d5a2-3253975eaf4e"
      },
      "execution_count": 37,
      "outputs": [
        {
          "output_type": "stream",
          "name": "stdout",
          "text": [
            "0           English oak\n",
            "1    crimson king maple\n",
            "4      London planetree\n",
            "5        Amur cork tree\n",
            "6     littleleaf linden\n",
            "Name: spc_common, dtype: object\n"
          ]
        }
      ]
    },
    {
      "cell_type": "code",
      "source": [
        "from sklearn.preprocessing import LabelEncoder\n",
        "\n",
        "# ラベルエンコーダーの初期化\n",
        "label_encoder = LabelEncoder()\n",
        "\n",
        "# `spc_common` 列のエンコード\n",
        "train['spc_common_encoded'] = label_encoder.fit_transform(train['spc_common'])\n",
        "\n",
        "# 元の列とエンコードされた列の最初のいくつかの値を表示\n",
        "print(train[['spc_common', 'spc_common_encoded']].head())\n"
      ],
      "metadata": {
        "colab": {
          "base_uri": "https://localhost:8080/"
        },
        "id": "7Opy-8az6zZ3",
        "outputId": "55648d55-5146-441f-aacb-7f86f1fb0e4d"
      },
      "execution_count": 38,
      "outputs": [
        {
          "output_type": "stream",
          "name": "stdout",
          "text": [
            "           spc_common  spc_common_encoded\n",
            "0         English oak                  17\n",
            "1  crimson king maple                  56\n",
            "4    London planetree                  28\n",
            "5      Amur cork tree                   6\n",
            "6   littleleaf linden                  77\n"
          ]
        }
      ]
    },
    {
      "cell_type": "code",
      "source": [
        "# `test` データセットの `spc_common` 列を同じエンコーダーを使用してエンコード\n",
        "test['spc_common_encoded'] = label_encoder.transform(test['spc_common'])\n",
        "\n",
        "# `test` データセットの変換後の値を表示\n",
        "print(test[['spc_common', 'spc_common_encoded']].head())\n"
      ],
      "metadata": {
        "colab": {
          "base_uri": "https://localhost:8080/"
        },
        "id": "N-dG1vqM7Vy_",
        "outputId": "ac3e475e-6b79-4986-e523-48c4b1aa3c8c"
      },
      "execution_count": 39,
      "outputs": [
        {
          "output_type": "stream",
          "name": "stdout",
          "text": [
            "              spc_common  spc_common_encoded\n",
            "19984       Callery pear                  11\n",
            "19985             cherry                  51\n",
            "19986  littleleaf linden                  77\n",
            "19987       dawn redwood                  58\n",
            "19988   purple-leaf plum                  90\n"
          ]
        }
      ]
    },
    {
      "cell_type": "markdown",
      "metadata": {
        "id": "Zw1LLLKiQIX7"
      },
      "source": [
        "# 5. 前処理2 curb_loc(ツリーが路上にあるかどうか)の前処理 _encodedの登場\n"
      ]
    },
    {
      "cell_type": "code",
      "execution_count": 40,
      "metadata": {
        "colab": {
          "base_uri": "https://localhost:8080/"
        },
        "id": "puvXsMr6M3fr",
        "outputId": "067d6ca2-1a10-436d-cdd0-3e48afa50620"
      },
      "outputs": [
        {
          "output_type": "stream",
          "name": "stdout",
          "text": [
            "   created_at  tree_dbh  health  steward   guards  sidewalk  user_type  \\\n",
            "0  2015-06-29        14       1      0.0     NULL    Damage  Volunteer   \n",
            "1  2016-09-21         5       1      3.5  Helpful  NoDamage  Volunteer   \n",
            "4  2016-06-24        23       1      0.0     NULL  NoDamage  Volunteer   \n",
            "5  2015-08-11        12       1      0.0     NULL    Damage  Volunteer   \n",
            "6  2015-10-24         8       1      0.0  Helpful    Damage  Volunteer   \n",
            "\n",
            "       problems          spc_common                        spc_latin  ...  \\\n",
            "0             0         English oak                    Quercus robur  ...   \n",
            "1             0  crimson king maple  Acer platanoides 'Crimson King'  ...   \n",
            "4        Stones    London planetree            Platanus x acerifolia  ...   \n",
            "5             0      Amur cork tree           Phellodendron amurense  ...   \n",
            "6  BranchLights   littleleaf linden                    Tilia cordata  ...   \n",
            "\n",
            "    boroname     zip_city  cb_num  st_senate st_assem cncldist  \\\n",
            "0     Queens  Little Neck     411         11       25       23   \n",
            "1      Bronx        Bronx     207         33       78       15   \n",
            "4  Manhattan     New York     110         30       70        9   \n",
            "5     Queens     Flushing     407         11       40       20   \n",
            "6     Queens     Flushing     407         16       40       20   \n",
            "\n",
            "   problems_encoded  spc_common_encoded  curb_loc_OffsetFromCurb  \\\n",
            "0               0.0                  17                        0   \n",
            "1               0.0                  56                        0   \n",
            "4              28.0                  28                        0   \n",
            "5               0.0                   6                        0   \n",
            "6               1.0                  77                        0   \n",
            "\n",
            "   curb_loc_OnCurb  \n",
            "0                1  \n",
            "1                1  \n",
            "4                1  \n",
            "5                1  \n",
            "6                1  \n",
            "\n",
            "[5 rows x 24 columns]\n",
            "       created_at  tree_dbh  steward   guards  sidewalk         user_type  \\\n",
            "19984  2015-09-08        15      NaN  Unknown    Damage   NYC Parks Staff   \n",
            "19985  2015-10-15         5      1.5  Unknown  NoDamage         Volunteer   \n",
            "19986  2016-08-03         4      NaN   Unsure  NoDamage         Volunteer   \n",
            "19987  2015-08-06         7      NaN  Unknown  NoDamage  TreesCount Staff   \n",
            "19988  2015-10-21         6      1.5  Helpful  NoDamage  TreesCount Staff   \n",
            "\n",
            "      problems         spc_common                     spc_latin   nta  ...  \\\n",
            "19984        0       Callery pear              Pyrus calleryana  BK17  ...   \n",
            "19985        0             cherry                        Prunus  BX62  ...   \n",
            "19986        0  littleleaf linden                 Tilia cordata  QN60  ...   \n",
            "19987        0       dawn redwood  Metasequoia glyptostroboides  BK09  ...   \n",
            "19988   Stones   purple-leaf plum             Prunus cerasifera  BK75  ...   \n",
            "\n",
            "       boroname     zip_city  cb_num st_senate st_assem  cncldist  \\\n",
            "19984  Brooklyn     Brooklyn     315        22       45        48   \n",
            "19985     Bronx        Bronx     212        34       81        11   \n",
            "19986    Queens  Kew Gardens     409        14       27        29   \n",
            "19987  Brooklyn     Brooklyn     302        26       52        33   \n",
            "19988  Brooklyn     Brooklyn     303        25       56        36   \n",
            "\n",
            "       problems_encoded  spc_common_encoded  curb_loc_OffsetFromCurb  \\\n",
            "19984               0.0                  11                        0   \n",
            "19985               0.0                  51                        0   \n",
            "19986               0.0                  77                        0   \n",
            "19987               0.0                  58                        0   \n",
            "19988              28.0                  90                        0   \n",
            "\n",
            "       curb_loc_OnCurb  \n",
            "19984                1  \n",
            "19985                1  \n",
            "19986                1  \n",
            "19987                1  \n",
            "19988                1  \n",
            "\n",
            "[5 rows x 23 columns]\n"
          ]
        }
      ],
      "source": [
        "# ワンホットエンコーディングの適用\n",
        "train_encoded = pd.get_dummies(train, columns=['curb_loc'])\n",
        "test_encoded = pd.get_dummies(test, columns=['curb_loc'])\n",
        "\n",
        "# 変換後のデータセットの先頭数行を表示（確認用）\n",
        "print(train_encoded.head())\n",
        "print(test_encoded.head())\n"
      ]
    },
    {
      "cell_type": "markdown",
      "metadata": {
        "id": "YvQSioWdsjrT"
      },
      "source": [
        "## curb_locが追加"
      ]
    },
    {
      "cell_type": "code",
      "execution_count": 41,
      "metadata": {
        "colab": {
          "base_uri": "https://localhost:8080/"
        },
        "id": "gbHhjlK5pOY1",
        "outputId": "1d3fd0a0-ebd7-4c97-86a4-ff3d3f9ea329"
      },
      "outputs": [
        {
          "output_type": "stream",
          "name": "stdout",
          "text": [
            "Columns in train dataset: Index(['created_at', 'tree_dbh', 'health', 'steward', 'guards', 'sidewalk',\n",
            "       'user_type', 'problems', 'spc_common', 'spc_latin', 'nta', 'nta_name',\n",
            "       'borocode', 'boro_ct', 'boroname', 'zip_city', 'cb_num', 'st_senate',\n",
            "       'st_assem', 'cncldist', 'problems_encoded', 'spc_common_encoded',\n",
            "       'curb_loc_OffsetFromCurb', 'curb_loc_OnCurb'],\n",
            "      dtype='object')\n",
            "Columns in test dataset: Index(['created_at', 'tree_dbh', 'steward', 'guards', 'sidewalk', 'user_type',\n",
            "       'problems', 'spc_common', 'spc_latin', 'nta', 'nta_name', 'borocode',\n",
            "       'boro_ct', 'boroname', 'zip_city', 'cb_num', 'st_senate', 'st_assem',\n",
            "       'cncldist', 'problems_encoded', 'spc_common_encoded',\n",
            "       'curb_loc_OffsetFromCurb', 'curb_loc_OnCurb'],\n",
            "      dtype='object')\n"
          ]
        }
      ],
      "source": [
        "print(\"Columns in train dataset:\", train_encoded.columns)\n",
        "print(\"Columns in test dataset:\", test_encoded.columns)"
      ]
    },
    {
      "cell_type": "markdown",
      "metadata": {
        "id": "1Ct1NjFGRHVw"
      },
      "source": [
        "#6.2 spc_commonの前処理"
      ]
    },
    {
      "cell_type": "code",
      "execution_count": 42,
      "metadata": {
        "colab": {
          "base_uri": "https://localhost:8080/",
          "height": 108
        },
        "id": "PX6UnKi2RLjb",
        "outputId": "f73d2ec4-b813-42de-8d8e-3ca3774391fa"
      },
      "outputs": [
        {
          "output_type": "execute_result",
          "data": {
            "text/plain": [
              "\"\\nimport pandas as pd\\n\\n# train データセットにワンホットエンコーディングを適用\\ntrain_encoded = pd.get_dummies(train_encoded, columns=['spc_common'])\\n\\n# 生成されたカラムを保存\\ntrain_columns = train_encoded.columns\\n\\n# test データセットにワンホットエンコーディングを適用\\ntest_encoded = pd.get_dummies(test_encoded, columns=['spc_common'])\\n\\n# train データセットに存在して test データセットに存在しないカラムを追加\\nfor col in train_columns:\\n    if col not in test_encoded.columns:\\n        test_encoded[col] = 0\\n\\n# test データセットに存在して train データセットに存在しないカラムを削除\\ntest_encoded = test_encoded[train_columns]\\n\\n# 結果を表示\\nprint(train_encoded.head())\\nprint(test_encoded.head())\\n\\n\""
            ],
            "application/vnd.google.colaboratory.intrinsic+json": {
              "type": "string"
            }
          },
          "metadata": {},
          "execution_count": 42
        }
      ],
      "source": [
        "\"\"\"\n",
        "import pandas as pd\n",
        "\n",
        "# train データセットにワンホットエンコーディングを適用\n",
        "train_encoded = pd.get_dummies(train_encoded, columns=['spc_common'])\n",
        "\n",
        "# 生成されたカラムを保存\n",
        "train_columns = train_encoded.columns\n",
        "\n",
        "# test データセットにワンホットエンコーディングを適用\n",
        "test_encoded = pd.get_dummies(test_encoded, columns=['spc_common'])\n",
        "\n",
        "# train データセットに存在して test データセットに存在しないカラムを追加\n",
        "for col in train_columns:\n",
        "    if col not in test_encoded.columns:\n",
        "        test_encoded[col] = 0\n",
        "\n",
        "# test データセットに存在して train データセットに存在しないカラムを削除\n",
        "test_encoded = test_encoded[train_columns]\n",
        "\n",
        "# 結果を表示\n",
        "print(train_encoded.head())\n",
        "print(test_encoded.head())\n",
        "\n",
        "\"\"\""
      ]
    },
    {
      "cell_type": "code",
      "execution_count": 43,
      "metadata": {
        "colab": {
          "base_uri": "https://localhost:8080/"
        },
        "id": "Hm8im8qRUnSJ",
        "outputId": "6d419ef4-d55f-4320-8f86-97bb5d898dd3"
      },
      "outputs": [
        {
          "output_type": "stream",
          "name": "stdout",
          "text": [
            "Columns in train dataset: Index(['created_at', 'tree_dbh', 'health', 'steward', 'guards', 'sidewalk',\n",
            "       'user_type', 'problems', 'spc_common', 'spc_latin', 'nta', 'nta_name',\n",
            "       'borocode', 'boro_ct', 'boroname', 'zip_city', 'cb_num', 'st_senate',\n",
            "       'st_assem', 'cncldist', 'problems_encoded', 'spc_common_encoded',\n",
            "       'curb_loc_OffsetFromCurb', 'curb_loc_OnCurb'],\n",
            "      dtype='object')\n",
            "Columns in test dataset: Index(['created_at', 'tree_dbh', 'steward', 'guards', 'sidewalk', 'user_type',\n",
            "       'problems', 'spc_common', 'spc_latin', 'nta', 'nta_name', 'borocode',\n",
            "       'boro_ct', 'boroname', 'zip_city', 'cb_num', 'st_senate', 'st_assem',\n",
            "       'cncldist', 'problems_encoded', 'spc_common_encoded',\n",
            "       'curb_loc_OffsetFromCurb', 'curb_loc_OnCurb'],\n",
            "      dtype='object')\n"
          ]
        }
      ],
      "source": [
        "print(\"Columns in train dataset:\", train_encoded.columns)\n",
        "print(\"Columns in test dataset:\", test_encoded.columns)"
      ]
    },
    {
      "cell_type": "markdown",
      "metadata": {
        "id": "J80WrdrAkCRB"
      },
      "source": [
        "#6. guards欠損値を変更\n"
      ]
    },
    {
      "cell_type": "code",
      "execution_count": 44,
      "metadata": {
        "id": "jVHwXw0xkJyX"
      },
      "outputs": [],
      "source": [
        "train_encoded['guards'] = train_encoded['guards'].replace('NULL', 'Unsure')\n"
      ]
    },
    {
      "cell_type": "code",
      "execution_count": 45,
      "metadata": {
        "id": "JVFjBQj1k7uW"
      },
      "outputs": [],
      "source": [
        "train_encoded = pd.get_dummies(train_encoded, columns=['guards'])\n"
      ]
    },
    {
      "cell_type": "markdown",
      "metadata": {
        "id": "H66_jLZ9k5pV"
      },
      "source": [
        "# 6. User Type\n"
      ]
    },
    {
      "cell_type": "code",
      "execution_count": 46,
      "metadata": {
        "colab": {
          "base_uri": "https://localhost:8080/"
        },
        "id": "3YdqGsRyk88b",
        "outputId": "15e2be34-c0a1-4db1-cf19-b3736a6a4262"
      },
      "outputs": [
        {
          "output_type": "stream",
          "name": "stdout",
          "text": [
            "['Volunteer' 'TreesCount Staff' 'NYC Parks Staff']\n",
            "ユニークな user_type の種類の数: 3\n",
            "   created_at  tree_dbh  health  steward  sidewalk      problems  \\\n",
            "0  2015-06-29        14       1      0.0    Damage             0   \n",
            "1  2016-09-21         5       1      3.5  NoDamage             0   \n",
            "4  2016-06-24        23       1      0.0  NoDamage        Stones   \n",
            "5  2015-08-11        12       1      0.0    Damage             0   \n",
            "6  2015-10-24         8       1      0.0    Damage  BranchLights   \n",
            "\n",
            "           spc_common                        spc_latin   nta  \\\n",
            "0         English oak                    Quercus robur  QN45   \n",
            "1  crimson king maple  Acer platanoides 'Crimson King'  BX05   \n",
            "4    London planetree            Platanus x acerifolia  MN03   \n",
            "5      Amur cork tree           Phellodendron amurense  QN22   \n",
            "6   littleleaf linden                    Tilia cordata  QN22   \n",
            "\n",
            "                               nta_name  ...  problems_encoded  \\\n",
            "0  Douglas Manor-Douglaston-Little Neck  ...               0.0   \n",
            "1            Bedford Park-Fordham North  ...               0.0   \n",
            "4     Central Harlem North-Polo Grounds  ...              28.0   \n",
            "5                              Flushing  ...               0.0   \n",
            "6                              Flushing  ...               1.0   \n",
            "\n",
            "   spc_common_encoded curb_loc_OffsetFromCurb curb_loc_OnCurb  guards_Harmful  \\\n",
            "0                  17                       0               1               0   \n",
            "1                  56                       0               1               0   \n",
            "4                  28                       0               1               0   \n",
            "5                   6                       0               1               0   \n",
            "6                  77                       0               1               0   \n",
            "\n",
            "   guards_Helpful  guards_Unsure  user_type_NYC Parks Staff  \\\n",
            "0               0              1                          0   \n",
            "1               1              0                          0   \n",
            "4               0              1                          0   \n",
            "5               0              1                          0   \n",
            "6               1              0                          0   \n",
            "\n",
            "   user_type_TreesCount Staff  user_type_Volunteer  \n",
            "0                           0                    1  \n",
            "1                           0                    1  \n",
            "4                           0                    1  \n",
            "5                           0                    1  \n",
            "6                           0                    1  \n",
            "\n",
            "[5 rows x 28 columns]\n",
            "       created_at  tree_dbh  steward   guards  sidewalk problems  \\\n",
            "19984  2015-09-08        15      NaN  Unknown    Damage        0   \n",
            "19985  2015-10-15         5      1.5  Unknown  NoDamage        0   \n",
            "19986  2016-08-03         4      NaN   Unsure  NoDamage        0   \n",
            "19987  2015-08-06         7      NaN  Unknown  NoDamage        0   \n",
            "19988  2015-10-21         6      1.5  Helpful  NoDamage   Stones   \n",
            "\n",
            "              spc_common                     spc_latin   nta  \\\n",
            "19984       Callery pear              Pyrus calleryana  BK17   \n",
            "19985             cherry                        Prunus  BX62   \n",
            "19986  littleleaf linden                 Tilia cordata  QN60   \n",
            "19987       dawn redwood  Metasequoia glyptostroboides  BK09   \n",
            "19988   purple-leaf plum             Prunus cerasifera  BK75   \n",
            "\n",
            "                                             nta_name  ...  st_senate  \\\n",
            "19984  Sheepshead Bay-Gerritsen Beach-Manhattan Beach  ...         22   \n",
            "19985                              Woodlawn-Wakefield  ...         34   \n",
            "19986                                     Kew Gardens  ...         14   \n",
            "19987                    Brooklyn Heights-Cobble Hill  ...         26   \n",
            "19988                                         Bedford  ...         25   \n",
            "\n",
            "       st_assem cncldist problems_encoded  spc_common_encoded  \\\n",
            "19984        45       48              0.0                  11   \n",
            "19985        81       11              0.0                  51   \n",
            "19986        27       29              0.0                  77   \n",
            "19987        52       33              0.0                  58   \n",
            "19988        56       36             28.0                  90   \n",
            "\n",
            "       curb_loc_OffsetFromCurb  curb_loc_OnCurb  user_type_NYC Parks Staff  \\\n",
            "19984                        0                1                          1   \n",
            "19985                        0                1                          0   \n",
            "19986                        0                1                          0   \n",
            "19987                        0                1                          0   \n",
            "19988                        0                1                          0   \n",
            "\n",
            "       user_type_TreesCount Staff  user_type_Volunteer  \n",
            "19984                           0                    0  \n",
            "19985                           0                    1  \n",
            "19986                           0                    1  \n",
            "19987                           1                    0  \n",
            "19988                           1                    0  \n",
            "\n",
            "[5 rows x 25 columns]\n"
          ]
        }
      ],
      "source": [
        "# 'user_type' カラムのユニークな値を表示\n",
        "unique_user_types = train['user_type'].unique()\n",
        "print(unique_user_types)\n",
        "\n",
        "# 'user_type' カラムのユニークな値の数を表示\n",
        "unique_user_types_count = train['user_type'].nunique()\n",
        "print(\"ユニークな user_type の種類の数:\", unique_user_types_count)\n",
        "\n",
        "\n",
        "# ワンホットエンコーディングの適用\n",
        "train_encoded = pd.get_dummies(train_encoded, columns=['user_type'])\n",
        "test_encoded = pd.get_dummies(test_encoded, columns=['user_type'])\n",
        "\n",
        "\n",
        "\n",
        "# 変換後のデータセットの先頭数行を表示（確認用）\n",
        "print(train_encoded.head())\n",
        "print(test_encoded.head())"
      ]
    },
    {
      "cell_type": "markdown",
      "metadata": {
        "id": "AJaolWg1rEEP"
      },
      "source": [
        "# 6. sidewalk"
      ]
    },
    {
      "cell_type": "code",
      "execution_count": 47,
      "metadata": {
        "colab": {
          "base_uri": "https://localhost:8080/"
        },
        "id": "MFVNd4KmrHjU",
        "outputId": "ee642951-3ef4-440e-d902-792645cdbfdf"
      },
      "outputs": [
        {
          "output_type": "stream",
          "name": "stdout",
          "text": [
            "ユニークな値: ['Damage' 'NoDamage']\n",
            "ユニークな値の数: 2\n",
            "   created_at  tree_dbh  health  steward      problems          spc_common  \\\n",
            "0  2015-06-29        14       1      0.0             0         English oak   \n",
            "1  2016-09-21         5       1      3.5             0  crimson king maple   \n",
            "4  2016-06-24        23       1      0.0        Stones    London planetree   \n",
            "5  2015-08-11        12       1      0.0             0      Amur cork tree   \n",
            "6  2015-10-24         8       1      0.0  BranchLights   littleleaf linden   \n",
            "\n",
            "                         spc_latin   nta  \\\n",
            "0                    Quercus robur  QN45   \n",
            "1  Acer platanoides 'Crimson King'  BX05   \n",
            "4            Platanus x acerifolia  MN03   \n",
            "5           Phellodendron amurense  QN22   \n",
            "6                    Tilia cordata  QN22   \n",
            "\n",
            "                               nta_name  borocode  ...  \\\n",
            "0  Douglas Manor-Douglaston-Little Neck         4  ...   \n",
            "1            Bedford Park-Fordham North         2  ...   \n",
            "4     Central Harlem North-Polo Grounds         1  ...   \n",
            "5                              Flushing         4  ...   \n",
            "6                              Flushing         4  ...   \n",
            "\n",
            "   curb_loc_OffsetFromCurb curb_loc_OnCurb guards_Harmful  guards_Helpful  \\\n",
            "0                        0               1              0               0   \n",
            "1                        0               1              0               1   \n",
            "4                        0               1              0               0   \n",
            "5                        0               1              0               0   \n",
            "6                        0               1              0               1   \n",
            "\n",
            "   guards_Unsure  user_type_NYC Parks Staff  user_type_TreesCount Staff  \\\n",
            "0              1                          0                           0   \n",
            "1              0                          0                           0   \n",
            "4              1                          0                           0   \n",
            "5              1                          0                           0   \n",
            "6              0                          0                           0   \n",
            "\n",
            "   user_type_Volunteer  sidewalk_Damage  sidewalk_NoDamage  \n",
            "0                    1                1                  0  \n",
            "1                    1                0                  1  \n",
            "4                    1                0                  1  \n",
            "5                    1                1                  0  \n",
            "6                    1                1                  0  \n",
            "\n",
            "[5 rows x 29 columns]\n"
          ]
        }
      ],
      "source": [
        "import pandas as pd\n",
        "# 'sidewalk' カラムのユニークな値を表示\n",
        "unique_values = train['sidewalk'].unique()\n",
        "print(\"ユニークな値:\", unique_values)\n",
        "\n",
        "# 'sidewalk' カラムのユニークな値の数を表示\n",
        "unique_values_count = train['sidewalk'].nunique()\n",
        "print(\"ユニークな値の数:\", unique_values_count)\n",
        "\n",
        "\n",
        "\n",
        "# ワンホットエンコーディングの適用\n",
        "train_encoded = pd.get_dummies(train_encoded, columns=['sidewalk'])\n",
        "test_encoded = pd.get_dummies(test_encoded, columns=['sidewalk'])\n",
        "\n",
        "\n",
        "# 結果の表示\n",
        "print(train_encoded.head())\n"
      ]
    },
    {
      "cell_type": "markdown",
      "metadata": {
        "id": "W8vsMwOnlDd4"
      },
      "source": [
        "#6.1 testデータ"
      ]
    },
    {
      "cell_type": "code",
      "execution_count": 48,
      "metadata": {
        "id": "qS4WkAaVlCsP"
      },
      "outputs": [],
      "source": [
        "test_encoded['guards'] = test_encoded['guards'].replace('NULL', 'Unsure')\n"
      ]
    },
    {
      "cell_type": "code",
      "execution_count": 49,
      "metadata": {
        "id": "-LVDKpfrlID-"
      },
      "outputs": [],
      "source": [
        "test_encoded = pd.get_dummies(test_encoded, columns=['guards'])\n"
      ]
    },
    {
      "cell_type": "code",
      "execution_count": 50,
      "metadata": {
        "colab": {
          "base_uri": "https://localhost:8080/"
        },
        "id": "90xmA9RknQD0",
        "outputId": "b76479d7-9765-46da-ac3b-77a95453bec3"
      },
      "outputs": [
        {
          "output_type": "stream",
          "name": "stdout",
          "text": [
            "Columns in train dataset: Index(['created_at', 'tree_dbh', 'health', 'steward', 'problems', 'spc_common',\n",
            "       'spc_latin', 'nta', 'nta_name', 'borocode', 'boro_ct', 'boroname',\n",
            "       'zip_city', 'cb_num', 'st_senate', 'st_assem', 'cncldist',\n",
            "       'problems_encoded', 'spc_common_encoded', 'curb_loc_OffsetFromCurb',\n",
            "       'curb_loc_OnCurb', 'guards_Harmful', 'guards_Helpful', 'guards_Unsure',\n",
            "       'user_type_NYC Parks Staff', 'user_type_TreesCount Staff',\n",
            "       'user_type_Volunteer', 'sidewalk_Damage', 'sidewalk_NoDamage'],\n",
            "      dtype='object')\n",
            "Columns in test dataset: Index(['created_at', 'tree_dbh', 'steward', 'problems', 'spc_common',\n",
            "       'spc_latin', 'nta', 'nta_name', 'borocode', 'boro_ct', 'boroname',\n",
            "       'zip_city', 'cb_num', 'st_senate', 'st_assem', 'cncldist',\n",
            "       'problems_encoded', 'spc_common_encoded', 'curb_loc_OffsetFromCurb',\n",
            "       'curb_loc_OnCurb', 'user_type_NYC Parks Staff',\n",
            "       'user_type_TreesCount Staff', 'user_type_Volunteer', 'sidewalk_Damage',\n",
            "       'sidewalk_NoDamage', 'guards_Harmful', 'guards_Helpful',\n",
            "       'guards_Unknown', 'guards_Unsure'],\n",
            "      dtype='object')\n"
          ]
        }
      ],
      "source": [
        "# gurds_Harmful, guards_Helpful, guards_Unsureが追加\n",
        "# train と test データセットの列名を表示\n",
        "print(\"Columns in train dataset:\", train_encoded.columns)\n",
        "print(\"Columns in test dataset:\", test_encoded.columns)"
      ]
    },
    {
      "cell_type": "markdown",
      "metadata": {
        "id": "leYAKZmi-zPd"
      },
      "source": [
        "#7. モデリングをしてみよう"
      ]
    },
    {
      "cell_type": "code",
      "execution_count": 51,
      "metadata": {
        "id": "V2d-_vwC7zhB"
      },
      "outputs": [],
      "source": [
        "test_encoded.fillna('NULL', inplace=True)\n",
        "# test['bool_problems'] = test['problems'].apply(lambda x: 0 if x=='NULL' else 1)"
      ]
    },
    {
      "cell_type": "code",
      "execution_count": 52,
      "metadata": {
        "colab": {
          "base_uri": "https://localhost:8080/"
        },
        "id": "fAc4sAtB74Fi",
        "outputId": "3be2e457-f49a-4818-9643-ba3ede039ca1"
      },
      "outputs": [
        {
          "output_type": "execute_result",
          "data": {
            "text/plain": [
              "(47253, 29)"
            ]
          },
          "metadata": {},
          "execution_count": 52
        }
      ],
      "source": [
        "train_encoded.shape"
      ]
    },
    {
      "cell_type": "code",
      "execution_count": 53,
      "metadata": {
        "id": "6qytQq2W78lG"
      },
      "outputs": [],
      "source": [
        "# test_size\n",
        "# from sklearn.model_selection import train_test_split\n",
        "# train_encoded, valid = train_test_split(train_encoded, test_size=0.2, stratify=train['health'], random_state=82) # stratifyを設定することで目的変数の分布を保ったまま分割することができます。\n",
        "\n"
      ]
    },
    {
      "cell_type": "code",
      "execution_count": 54,
      "metadata": {
        "id": "CV1iVa6M_r-W"
      },
      "outputs": [],
      "source": [
        "# 分割後のデータセットのクラス分布を確認\n",
        "# print(\"トレーニングセットのクラス分布:\\n\", train_encoded['health'].value_counts())\n",
        "# print(\"検証セットのクラス分布:\\n\", valid['health'].value_counts())"
      ]
    },
    {
      "cell_type": "code",
      "execution_count": 55,
      "metadata": {
        "id": "z_akZiPZ8AQd"
      },
      "outputs": [],
      "source": [
        "# train_encoded.shape"
      ]
    },
    {
      "cell_type": "code",
      "execution_count": 56,
      "metadata": {
        "id": "t8-ldpvL8EOL"
      },
      "outputs": [],
      "source": [
        "# valid.shape"
      ]
    },
    {
      "cell_type": "code",
      "execution_count": 57,
      "metadata": {
        "colab": {
          "base_uri": "https://localhost:8080/"
        },
        "id": "Gzi9aM7ivfoT",
        "outputId": "19719c35-2ae8-4813-e580-55cb1f99ee92"
      },
      "outputs": [
        {
          "output_type": "stream",
          "name": "stdout",
          "text": [
            "Number of columns in the dataset: 29\n"
          ]
        }
      ],
      "source": [
        "# カラムの数\n",
        "column_count = len(train_encoded.columns)\n",
        "print(\"Number of columns in the dataset:\", column_count)\n"
      ]
    },
    {
      "cell_type": "code",
      "execution_count": 58,
      "metadata": {
        "colab": {
          "base_uri": "https://localhost:8080/"
        },
        "id": "l4HUCW8_8GeK",
        "outputId": "ea6f7b6d-b470-41dc-dd6a-5287466c38a8"
      },
      "outputs": [
        {
          "output_type": "stream",
          "name": "stdout",
          "text": [
            "tree_dbh                      0\n",
            "curb_loc_OffsetFromCurb       0\n",
            "curb_loc_OnCurb               0\n",
            "sidewalk_Damage               0\n",
            "sidewalk_NoDamage             0\n",
            "steward                       0\n",
            "boro_ct                       0\n",
            "borocode                      0\n",
            "cb_num                        0\n",
            "st_senate                     0\n",
            "st_assem                      0\n",
            "cncldist                      0\n",
            "guards_Harmful                0\n",
            "guards_Helpful                0\n",
            "guards_Unsure                 0\n",
            "user_type_Volunteer           0\n",
            "user_type_NYC Parks Staff     0\n",
            "user_type_TreesCount Staff    0\n",
            "problems_encoded              0\n",
            "spc_common_encoded            0\n",
            "dtype: int64\n"
          ]
        }
      ],
      "source": [
        "# 使用する特徴量の選択\n",
        "# select_cols = ['tree_dbh', 'curb_loc', 'sidewalk', 'steward', 'guards', 'user_type', 'bool_problems']\n",
        "# 0.3309583\n",
        "# select_cols = ['tree_dbh', 'curb_loc', 'sidewalk', 'steward', 'guards', 'user_type', 'bool_problems', 'spc_common']\n",
        "\n",
        "# 0.31516125898212494\n",
        "\n",
        "# 0.345\n",
        "select_cols = ['tree_dbh',\n",
        "              'curb_loc_OffsetFromCurb', 'curb_loc_OnCurb',\n",
        "              'sidewalk_Damage', 'sidewalk_NoDamage',\n",
        "              'steward',\n",
        "              'boro_ct',\n",
        "              'borocode',\n",
        "              'cb_num',\n",
        "              'st_senate',\n",
        "              'st_assem',\n",
        "              'cncldist',\n",
        "              'guards_Harmful', 'guards_Helpful', 'guards_Unsure',\n",
        "              'user_type_Volunteer','user_type_NYC Parks Staff', 'user_type_TreesCount Staff',\n",
        "              'problems_encoded',\n",
        "              'spc_common_encoded']\n",
        "\n",
        "# 欠損値\n",
        "missing_values = train_encoded[select_cols].isnull().sum()\n",
        "\n",
        "print(missing_values)\n",
        "\n",
        "# 目的変数とそれ以外に学習用データを分割\n",
        "x_train = train_encoded[select_cols]\n",
        "y_train = train_encoded['health']\n",
        "# x_valid = valid[select_cols]\n",
        "# y_valid = valid['health']\n",
        "\n",
        "\n",
        "# カテゴリのままでは学習できないのでワンホットエンコーディングで数値化\n",
        "x_train = pd.get_dummies(x_train)\n",
        "# x_valid = pd.get_dummies(x_valid)\n",
        "test = pd.get_dummies(test_encoded[select_cols])\n"
      ]
    },
    {
      "cell_type": "code",
      "execution_count": 59,
      "metadata": {
        "colab": {
          "base_uri": "https://localhost:8080/"
        },
        "id": "XtMHiBxrn4gT",
        "outputId": "6d0cf288-1fca-4122-9183-54ca49ee7248"
      },
      "outputs": [
        {
          "output_type": "stream",
          "name": "stdout",
          "text": [
            "Columns in train dataset: Index(['created_at', 'tree_dbh', 'health', 'steward', 'problems', 'spc_common',\n",
            "       'spc_latin', 'nta', 'nta_name', 'borocode', 'boro_ct', 'boroname',\n",
            "       'zip_city', 'cb_num', 'st_senate', 'st_assem', 'cncldist',\n",
            "       'problems_encoded', 'spc_common_encoded', 'curb_loc_OffsetFromCurb',\n",
            "       'curb_loc_OnCurb', 'guards_Harmful', 'guards_Helpful', 'guards_Unsure',\n",
            "       'user_type_NYC Parks Staff', 'user_type_TreesCount Staff',\n",
            "       'user_type_Volunteer', 'sidewalk_Damage', 'sidewalk_NoDamage'],\n",
            "      dtype='object')\n",
            "Columns in test dataset: Index(['created_at', 'tree_dbh', 'steward', 'problems', 'spc_common',\n",
            "       'spc_latin', 'nta', 'nta_name', 'borocode', 'boro_ct', 'boroname',\n",
            "       'zip_city', 'cb_num', 'st_senate', 'st_assem', 'cncldist',\n",
            "       'problems_encoded', 'spc_common_encoded', 'curb_loc_OffsetFromCurb',\n",
            "       'curb_loc_OnCurb', 'user_type_NYC Parks Staff',\n",
            "       'user_type_TreesCount Staff', 'user_type_Volunteer', 'sidewalk_Damage',\n",
            "       'sidewalk_NoDamage', 'guards_Harmful', 'guards_Helpful',\n",
            "       'guards_Unknown', 'guards_Unsure'],\n",
            "      dtype='object')\n"
          ]
        }
      ],
      "source": [
        "# このあたりでデータが変わってる\n",
        "# train と test データセットの列名を表示\n",
        "print(\"Columns in train dataset:\", train_encoded.columns)\n",
        "print(\"Columns in test dataset:\", test_encoded.columns)"
      ]
    },
    {
      "cell_type": "code",
      "source": [
        "from sklearn.ensemble import RandomForestClassifier\n",
        "from sklearn.model_selection import cross_val_score, GridSearchCV\n",
        "\n",
        "# モデルの初期化\n",
        "model = RandomForestClassifier(random_state=82)\n",
        "\n",
        "# ハイパーパラメータの範囲を設定\n",
        "param_grid = {\n",
        "    'n_estimators': [100, 200, 300],\n",
        "    'max_depth': [10, 20, 30],\n",
        "    'min_samples_split': [2, 4],\n",
        "    'min_samples_leaf': [1, 2]\n",
        "}\n",
        "\n",
        "# グリッドサーチとクロスバリデーションの実施\n",
        "grid_search = GridSearchCV(model, param_grid, cv=5, scoring='f1_macro')\n",
        "grid_search.fit(x_train, y_train)\n",
        "\n",
        "# 最適なパラメータとスコアの表示\n",
        "print(f\"Best parameters: {grid_search.best_params_}\")\n",
        "print(f\"Best cross-validation score (F1 Macro): {grid_search.best_score_}\")\n",
        "\n",
        "# 最適なパラメータでモデルを再訓練\n",
        "best_model = grid_search.best_estimator_\n"
      ],
      "metadata": {
        "id": "R24uqjGKGPDh"
      },
      "execution_count": null,
      "outputs": []
    },
    {
      "cell_type": "code",
      "execution_count": null,
      "metadata": {
        "id": "DbcMAYy48IjR"
      },
      "outputs": [],
      "source": [
        "\n",
        "# valid_predictions = model.predict(x_valid)\n",
        "\n",
        "# valid_f1 = f1_score(y_valid, valid_predictions, average='macro')\n",
        "\n",
        "# print(f\"Validation F1 Score (Macro): {valid_f1}\")\n",
        "\n",
        "# Prepare the test dataset\n",
        "# Get the list of features used in the training dataset\n",
        "\n",
        "# 最適なモデルで再訓練\n",
        "# model = RandomForestClassifier(random_state=82)\n",
        "model.fit(x_train, y_train)\n",
        "\n",
        "train_features = x_train.columns\n",
        "\n",
        "# Add missing features to the test dataset\n",
        "for feature in train_features:\n",
        "    if feature not in test.columns:\n",
        "        test[feature] = 0\n",
        "\n",
        "# Reorder the features in the test dataset to match the training dataset\n",
        "test = test[train_features]\n",
        "\n",
        "# Make predictions on the test set using the best model\n",
        "test_predictions = best_model.predict(test)\n",
        "\n",
        "\n",
        "# Save predictions to a CSV file\n",
        "# Assuming you have defined sample_submit\n",
        "sample_submit[1] = test_predictions  # Use test_predictions for the test set\n",
        "sample_submit.to_csv('/content/drive/MyDrive/SMFG/2023_1230_1850_submit.csv', index=True, header=None)"
      ]
    },
    {
      "cell_type": "code",
      "execution_count": null,
      "metadata": {
        "id": "7WlrSKrABN3U"
      },
      "outputs": [],
      "source": [
        "from sklearn.ensemble import RandomForestClassifier\n",
        "from sklearn.model_selection import StratifiedKFold, GridSearchCV\n",
        "from sklearn.metrics import f1_score\n",
        "\n",
        "# Assuming you have defined x_train, y_train, x_valid, y_valid\n",
        "\n",
        "\"\"\"\n",
        "# Define the model\n",
        "model = RandomForestClassifier()\n",
        "\n",
        "\n",
        "# Define an expanded hyperparameter grid for tuning\n",
        "expanded_param_grid = {\n",
        "    'n_estimators': [50, 100, 200, 300],  # More options for the number of trees\n",
        "    'max_depth': [None, 10, 20, 30, 40],   # Including deeper trees\n",
        "    'min_samples_split': [2, 5, 10, 15, 20],   # A wider range for the minimum number of samples required to split a node\n",
        "    'min_samples_leaf': [1, 2, 4, 6, 8],       # More options for the minimum number of samples required at a leaf node\n",
        "    'max_features': ['auto', 'sqrt', 'log2'],  # Different options for the number of features to consider when looking for the best split\n",
        "    'bootstrap': [True, False]                 # Whether bootstrap samples are used when building trees\n",
        "}\n",
        "cv = StratifiedKFold(n_splits=5, shuffle=True, random_state=42)\n",
        "\n",
        "# Use this expanded grid in GridSearchCV\n",
        "grid_search = GridSearchCV(model, expanded_param_grid, cv=cv, scoring='f1_macro')\n",
        "grid_search.fit(x_train, y_train)\n",
        "\n",
        "\n",
        "# Get the best model\n",
        "best_model = grid_search.best_estimator_\n",
        "\n",
        "# Make predictions on the validation set\n",
        "valid_predictions = best_model.predict(x_valid)\n",
        "\n",
        "# Calculate F1 score\n",
        "valid_f1 = f1_score(y_valid, valid_predictions, average='macro')\n",
        "\n",
        "print(f\"Best Parameters: {grid_search.best_params_}\")\n",
        "print(f\"Validation F1 Score (Macro): {valid_f1}\")\n",
        "\n",
        "\n",
        "\n",
        "# Prepare the test dataset\n",
        "# Get the list of features used in the training dataset\n",
        "train_features = x_train.columns\n",
        "\n",
        "# Add missing features to the test dataset\n",
        "for feature in train_features:\n",
        "    if feature not in test.columns:\n",
        "        test[feature] = 0\n",
        "\n",
        "# Reorder the features in the test dataset to match the training dataset\n",
        "test = test[train_features]\n",
        "\n",
        "# Make predictions on the test set using the best model\n",
        "test_predictions = best_model.predict(test)\n",
        "\n",
        "# Save predictions to a CSV file\n",
        "# Assuming you have defined sample_submit\n",
        "sample_submit[1] = test_predictions  # Use test_predictions for the test set\n",
        "sample_submit.to_csv('/content/drive/MyDrive/SMFG/2023_1230_1700_submit.csv', index=True, header=None)\n",
        "\"\"\"\n",
        "\n"
      ]
    },
    {
      "cell_type": "code",
      "execution_count": null,
      "metadata": {
        "id": "wFQLe6Z8Ko0W"
      },
      "outputs": [],
      "source": [
        "\n",
        "# Save predictions to a CSV file\n",
        "# submission_df = pd.DataFrame({'pred': test_predictions})\n",
        "# submission_df.to_csv('/content/drive/MyDrive/SMFG/2023_2400_submit.csv', index=False, header=None)\n"
      ]
    },
    {
      "cell_type": "code",
      "execution_count": null,
      "metadata": {
        "id": "SSkKQITU8NYy"
      },
      "outputs": [],
      "source": [
        "\"\"\"\n",
        "# 訓練データセットで使用された特徴のリストを取得\n",
        "train_features = x_train.columns\n",
        "\n",
        "# テストデータセットに不足している特徴を追加\n",
        "for feature in train_features:\n",
        "    if feature not in test.columns:\n",
        "        test[feature] = 0\n",
        "\n",
        "# テストデータセットの特徴を訓練データセットと同じ順序に並べ替え\n",
        "test = test[train_features]\n",
        "\n",
        "# モデルを使用して予測を行う\n",
        "pred = model.predict(test)\n",
        "print(pred[:5])\n",
        "\n",
        "\"\"\"\n"
      ]
    }
  ],
  "metadata": {
    "colab": {
      "provenance": [],
      "authorship_tag": "ABX9TyM1luTgHnDhgzez3n8Y/kTN",
      "include_colab_link": true
    },
    "kernelspec": {
      "display_name": "Python 3",
      "name": "python3"
    },
    "language_info": {
      "name": "python"
    }
  },
  "nbformat": 4,
  "nbformat_minor": 0
}